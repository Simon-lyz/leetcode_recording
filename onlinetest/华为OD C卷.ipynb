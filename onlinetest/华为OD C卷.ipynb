{
 "cells": [
  {
   "cell_type": "code",
   "execution_count": 1,
   "metadata": {
    "collapsed": true,
    "ExecuteTime": {
     "start_time": "2024-02-20T19:17:43.953587Z",
     "end_time": "2024-02-20T19:17:46.019297Z"
    }
   },
   "outputs": [],
   "source": [
    "# 现有N个任务需要处理，同一时间只能处理一个任务，处理每个任务所需要的时间固定为1。\n",
    "# 每个任务都有最晚处理时间限制和积分值，在最晚处理时间点之前处理完成任务才可获得对应的积分奖励。\n",
    "# 可用于处理任务的时间有限，请问在有限的时间内，可获得的最多积分。\n",
    "\n",
    "# 输入描述\n",
    "# 第一行为一个数N，表示有N个任务，1<=N<=100\n",
    "# 第二行为一个数T，表示可用于处理任务的时间。1<=T<=100\n",
    "# 接下来N行，每行两个空格分隔的整数(SLA和V)，SLA表示任务的最晚处理时间，V表示任务对应的积分。1<=SLA<=100, 0<=V<=100000\n",
    "\n",
    "# 输出描述\n",
    "# 可获得的最多积分"
   ]
  },
  {
   "cell_type": "code",
   "execution_count": 7,
   "outputs": [],
   "source": [],
   "metadata": {
    "collapsed": false,
    "ExecuteTime": {
     "start_time": "2024-02-21T00:00:37.992421Z",
     "end_time": "2024-02-21T00:00:38.007413Z"
    }
   }
  },
  {
   "cell_type": "code",
   "execution_count": null,
   "outputs": [],
   "source": [],
   "metadata": {
    "collapsed": false
   }
  },
  {
   "cell_type": "code",
   "execution_count": null,
   "outputs": [],
   "source": [],
   "metadata": {
    "collapsed": false
   }
  },
  {
   "cell_type": "code",
   "execution_count": null,
   "outputs": [],
   "source": [
    "\n",
    "# 贪心算法 通过率仅20%\n",
    "while True:\n",
    "    try:\n",
    "        n_tasks = int(input())\n",
    "        total_time = int(input())\n",
    "        tasks = []\n",
    "\n",
    "        for i in range(n_tasks):\n",
    "            task = input().split()\n",
    "            time = int(task[0])\n",
    "            score = int(task[1])\n",
    "            tasks.append((time,score))\n",
    "\n",
    "        tasks = sorted(tasks,key = lambda x:(x[0],-x[1]))\n",
    "        current_time = 0\n",
    "        total_score = 0\n",
    "        for sla,score in tasks:\n",
    "            if current_time < sla and current_time < total_time:\n",
    "                total_score += score\n",
    "                current_time += 1\n",
    "\n",
    "        print(total_score)\n",
    "\n",
    "    except:\n",
    "        break\n",
    "\n",
    "\n",
    "\n",
    "'''\n",
    "4\n",
    "3\n",
    "1 2\n",
    "1 3\n",
    "1 4\n",
    "3 5\n",
    "'''\n",
    "\n"
   ],
   "metadata": {
    "collapsed": false
   }
  },
  {
   "cell_type": "code",
   "execution_count": null,
   "outputs": [],
   "source": [],
   "metadata": {
    "collapsed": false
   }
  },
  {
   "cell_type": "code",
   "execution_count": null,
   "outputs": [],
   "source": [
    "# 问题描述：机器人搬砖，一共有N堆砖存放在N个不同的仓库中，第i堆砖中有bricks[i]块砖头，要求在8小时内搬完。机器人每小时能搬砖的数量取决于有多少能量格，机器人一个小时中只能在一个仓库中搬砖，机器人的能量格每小时补充一次且能量格只在这一个小时有效，为使得机器人损耗最小化尽量减小每次补充的能量格数。\n",
    "# 为了保障在8小时内能完成搬砖任务，请计算每小时给机器人充能的最小能量格数。\n",
    "# 备注：\n",
    "# 1、无需考虑机器人补充能量格的耗时；\n",
    "# 2、无需考虑机器人搬砖的耗时；\n",
    "# 3、机器人每小时补充能量格只在这一个小时中有效；\n",
    "\n",
    "# 输入描述：程序输入为“30 12 25 8 19”一个整数数组，数组中的每个数字代表第i堆砖的个数，每堆砖的个数不超过100。\n",
    "# 输出描述：输出在8小时内完成搬砖任务，机器人每小时最少需要充多少个能量格；如果8个小时内无论如何都完成不了任务，则输出“-1”；\n",
    "\n",
    "# input1:30 12 25 8 19\n",
    "# output1:15\n",
    "\n",
    "# input2:10 12 25 8 19 8 6 4 17 19 20 30\n",
    "# output2:-1\n"
   ],
   "metadata": {
    "collapsed": false
   }
  },
  {
   "cell_type": "code",
   "execution_count": 7,
   "outputs": [],
   "source": [],
   "metadata": {
    "collapsed": false,
    "ExecuteTime": {
     "start_time": "2024-02-21T00:02:45.291849Z",
     "end_time": "2024-02-21T00:02:45.302434Z"
    }
   }
  },
  {
   "cell_type": "code",
   "execution_count": 2,
   "outputs": [
    {
     "name": "stdout",
     "output_type": "stream",
     "text": [
      "[30, 25, 19, 12, 8]\n"
     ]
    },
    {
     "data": {
      "text/plain": "12"
     },
     "execution_count": 2,
     "metadata": {},
     "output_type": "execute_result"
    }
   ],
   "source": [
    "\n",
    "# 90%通过率\n",
    "def min_energy(bricks):\n",
    "    n = len(bricks)\n",
    "    if n > 8:\n",
    "        return -1\n",
    "    bricks.sort()\n",
    "    bricks = bricks[::-1]\n",
    "    #print(bricks)\n",
    "    total = sum(bricks)\n",
    "    for i in range(total//8,99999):\n",
    "        cnt = [(brick-1)//i + 1 for brick in bricks]\n",
    "        if sum(cnt) <= 8:\n",
    "            return i\n",
    "    return -1\n",
    "\n",
    "while True:\n",
    "    try:\n",
    "        lst = list(map(int,input().split()))\n",
    "        print(min_energy(lst))\n",
    "    except:\n",
    "        break"
   ],
   "metadata": {
    "collapsed": false,
    "ExecuteTime": {
     "start_time": "2024-02-20T19:43:49.711380Z",
     "end_time": "2024-02-20T19:43:49.721380Z"
    }
   }
  },
  {
   "cell_type": "code",
   "execution_count": null,
   "outputs": [],
   "source": [
    "# 给定一个字符串，只包含字母和数字，按要求找出字符串中的最长（连续）子串的长度，字符串本身是其最长的子串，子串要求：\n",
    "#1、 只包含1个字母(a~z, A~Z)，其余必须是数字；\n",
    "#2、 字母可以在子串中的任意位置；\n",
    "# 如果找不到满足要求的子串，如全是字母或全是数字，则返回-1。\n",
    "\n",
    "# 输入：字符串(只包含字母和数字)\n",
    "# 输出：子串的长度"
   ],
   "metadata": {
    "collapsed": false
   }
  },
  {
   "cell_type": "code",
   "execution_count": 7,
   "outputs": [],
   "source": [
    "def helper(s):\n",
    "    s = str(s)\n",
    "    n = len(s)\n",
    "\n",
    "    if n == 0 or n == 1 or s.isalpha() or s.isdigit() or not s.isalnum():\n",
    "        return -1\n",
    "    start = 0\n",
    "    maxlen = -1\n",
    "    has_alpha = True\n",
    "    for end in len(n):\n",
    "        if s[end].isalpha():\n",
    "            if has_alpha:\n",
    "                # 查找数字的跨越范围\n",
    "                while start < end and s[start].isdigit():\n",
    "                    start += 1\n",
    "                # 跳过字母\n",
    "                start += 1\n",
    "            else:\n",
    "                has_alpha = True\n",
    "\n"
   ],
   "metadata": {
    "collapsed": false,
    "ExecuteTime": {
     "start_time": "2024-02-20T21:28:07.201454Z",
     "end_time": "2024-02-20T21:28:07.211539Z"
    }
   }
  },
  {
   "cell_type": "code",
   "execution_count": 9,
   "outputs": [],
   "source": [],
   "metadata": {
    "collapsed": false,
    "ExecuteTime": {
     "start_time": "2024-02-21T00:04:16.197476Z",
     "end_time": "2024-02-21T00:04:16.210471Z"
    }
   }
  },
  {
   "cell_type": "code",
   "execution_count": null,
   "outputs": [],
   "source": [
    "\n",
    "\n",
    "# 91%通过率\n",
    "def helper(s):\n",
    "    n = len(s)\n",
    "    if n == 0 or n == 1 or s.isalpha() or s.isdigit():\n",
    "        return -1\n",
    "\n",
    "    maxlength = -1\n",
    "    start = 0\n",
    "    has_letter = False\n",
    "    end = 0\n",
    "    while not s[end].isalpha():\n",
    "        end += 1\n",
    "    if end != 0:\n",
    "        maxlength = end - start + 1\n",
    "\n",
    "    for end in range(n):\n",
    "        # 如果是字母\n",
    "        if s[end].isalpha():\n",
    "            if has_letter:\n",
    "                while start < end and s[start].isdigit():\n",
    "                    start += 1\n",
    "                start += 1  # 跳过这个字母\n",
    "            else:\n",
    "                has_letter = True\n",
    "        # 数字无脑加\n",
    "        elif not has_letter:\n",
    "            start = end + 1\n",
    "\n",
    "        if has_letter and end - start + 1 > maxlength:\n",
    "            maxlength = max(maxlength, end - start + 1)\n",
    "    return maxlength\n",
    "\n",
    "s = \"aa234556223141ASAFG32a56tt8910t13k234556223141\"\n",
    "print(helper(s))"
   ],
   "metadata": {
    "collapsed": false
   }
  }
 ],
 "metadata": {
  "kernelspec": {
   "display_name": "Python 3",
   "language": "python",
   "name": "python3"
  },
  "language_info": {
   "codemirror_mode": {
    "name": "ipython",
    "version": 2
   },
   "file_extension": ".py",
   "mimetype": "text/x-python",
   "name": "python",
   "nbconvert_exporter": "python",
   "pygments_lexer": "ipython2",
   "version": "2.7.6"
  }
 },
 "nbformat": 4,
 "nbformat_minor": 0
}
